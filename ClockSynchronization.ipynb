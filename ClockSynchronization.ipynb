{
 "cells": [
  {
   "cell_type": "markdown",
   "id": "5e58b94f",
   "metadata": {},
   "source": [
    "# Clock Synchronizaton "
   ]
  },
  {
   "cell_type": "code",
   "execution_count": 6,
   "id": "cd932f7d",
   "metadata": {},
   "outputs": [
    {
     "name": "stderr",
     "output_type": "stream",
     "text": [
      "Exception in thread Thread-10:\n",
      "Traceback (most recent call last):\n",
      "  File \"/usr/lib/python3.8/threading.py\", line 932, in _bootstrap_inner\n",
      "    self.run()\n",
      "  File \"/usr/lib/python3.8/threading.py\", line 870, in run\n",
      "    self._target(*self._args, **self._kwargs)\n",
      "  File \"/tmp/ipykernel_204124/3617675095.py\", line 61, in start_server_thread\n",
      "  File \"/tmp/ipykernel_204124/3617675095.py\", line 8, in start_time_server\n",
      "OSError: [Errno 98] Address already in use\n"
     ]
    },
    {
     "name": "stdout",
     "output_type": "stream",
     "text": [
      "Sent Current Time (T1): 1738222303.191408\n",
      "Connection Establish Time: 1738222303.191465\n",
      "Received Time (T2): 1738222303.191704\n",
      "Master Time (Server Time): 1738222303.191631\n",
      "Round Trip Delay: 0.000296 seconds\n",
      "Calculated Average Offset: 0.000148 seconds\n",
      "Corrected Client Time should be: 1738222303.191779\n"
     ]
    }
   ],
   "source": [
    "import socket\n",
    "import time\n",
    "import threading\n",
    "\n",
    "# Time server that sends the current timestamp\n",
    "def start_time_server(host, port):\n",
    "    server_socket = socket.socket(socket.AF_INET, socket.SOCK_DGRAM)\n",
    "    server_socket.bind((host, port))\n",
    "    print(f\"Time server listening on {host}:{port}...\")\n",
    "    \n",
    "    while True:\n",
    "        message, client_address = server_socket.recvfrom(1024)\n",
    "        if message == b'GET_TIME':\n",
    "            # Send the current server time back to the client\n",
    "            current_time = time.time()\n",
    "            server_socket.sendto(str(current_time).encode(), client_address)\n",
    "\n",
    "# Client that synchronizes its clock using Cristian's Algorithm\n",
    "def synchronize_clock(client_ip, client_port, server_ip, server_port):\n",
    "    def get_server_time():\n",
    "        client_socket = socket.socket(socket.AF_INET, socket.SOCK_DGRAM)\n",
    "        client_socket.settimeout(1)\n",
    "        client_socket.sendto(b'GET_TIME', (server_ip, server_port))\n",
    "        server_time, _ = client_socket.recvfrom(1024)\n",
    "        client_socket.close()\n",
    "        return float(server_time.decode())\n",
    "\n",
    "    T1 = time.time()  # Time when the request was sent\n",
    "    print(f\"Sent Current Time (T1): {T1:.6f}\")\n",
    "    \n",
    "    try:\n",
    "        # Record Connection Establish Time\n",
    "        connection_time = time.time()\n",
    "        print(f\"Connection Establish Time: {connection_time:.6f}\")\n",
    "\n",
    "        server_time = get_server_time()  # Get server time\n",
    "        T2 = time.time()  # Time when the response was received\n",
    "        print(f\"Received Time (T2): {T2:.6f}\")\n",
    "\n",
    "        # Server's time received by the client (Master Time)\n",
    "        print(f\"Master Time (Server Time): {server_time:.6f}\")\n",
    "        \n",
    "        # Calculate round-trip delay\n",
    "        round_trip_delay = T2 - T1\n",
    "        print(f\"Round Trip Delay: {round_trip_delay:.6f} seconds\")\n",
    "\n",
    "        # Calculate the offset between the server and client\n",
    "        average_offset = (round_trip_delay / 2)\n",
    "        print(f\"Calculated Average Offset: {average_offset:.6f} seconds\")\n",
    "\n",
    "        corrected_time = server_time + average_offset\n",
    "        print(f\"Corrected Client Time should be: {corrected_time:.6f}\")\n",
    "        \n",
    "    except Exception as e:\n",
    "        print(f\"Error: {e}\")\n",
    "\n",
    "# Run the server in a separate thread\n",
    "def start_server_thread():\n",
    "    HOST = \"127.0.0.1\"\n",
    "    PORT = 12345\n",
    "    start_time_server(HOST, PORT)\n",
    "\n",
    "# Run the client to synchronize time\n",
    "def run_client():\n",
    "    SERVER_IP = \"127.0.0.1\"\n",
    "    SERVER_PORT = 12345\n",
    "    synchronize_clock(\"127.0.0.1\", 12347, SERVER_IP, SERVER_PORT)\n",
    "\n",
    "# Main function to start both server and client\n",
    "if __name__ == \"__main__\":\n",
    "    # Start the server in a new thread\n",
    "    server_thread = threading.Thread(target=start_server_thread)\n",
    "    server_thread.daemon = True\n",
    "    server_thread.start()\n",
    "\n",
    "    # Run the client to synchronize time\n",
    "    time.sleep(1)  # Wait a bit for the server to start\n",
    "    run_client()\n"
   ]
  },
  {
   "cell_type": "code",
   "execution_count": null,
   "id": "4655bbc2",
   "metadata": {},
   "outputs": [],
   "source": []
  }
 ],
 "metadata": {
  "kernelspec": {
   "display_name": "Python 3 (ipykernel)",
   "language": "python",
   "name": "python3"
  },
  "language_info": {
   "codemirror_mode": {
    "name": "ipython",
    "version": 3
   },
   "file_extension": ".py",
   "mimetype": "text/x-python",
   "name": "python",
   "nbconvert_exporter": "python",
   "pygments_lexer": "ipython3",
   "version": "3.8.10"
  }
 },
 "nbformat": 4,
 "nbformat_minor": 5
}
